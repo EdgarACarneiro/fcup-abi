{
 "cells": [
  {
   "cell_type": "code",
   "execution_count": 32,
   "metadata": {},
   "outputs": [
    {
     "data": {
      "text/plain": [
       "True"
      ]
     },
     "execution_count": 32,
     "metadata": {},
     "output_type": "execute_result"
    }
   ],
   "source": [
    "valid = \"ACTATCTACTACTATCTATGCTAGCTAGCTAGCTAGCATCGA\"\n",
    "\n",
    "#Test if a given sequence is a valid DNA sequence\n",
    "def isValid(seq):\n",
    "    alphabet = [\"A\", \"T\", \"G\", \"C\"]\n",
    "    for base in seq.upper():\n",
    "        if base not in alphabet:\n",
    "            return False\n",
    "    return True\n",
    "\n",
    "# Test\n",
    "isValid(valid) # True"
   ]
  },
  {
   "cell_type": "code",
   "execution_count": 15,
   "metadata": {},
   "outputs": [
    {
     "data": {
      "text/plain": [
       "False"
      ]
     },
     "execution_count": 15,
     "metadata": {},
     "output_type": "execute_result"
    }
   ],
   "source": [
    "# Test\n",
    "isValid(\"AGCTAGCTGACUGCYAGCACGAYGC\")"
   ]
  },
  {
   "cell_type": "code",
   "execution_count": 31,
   "metadata": {},
   "outputs": [
    {
     "data": {
      "text/plain": [
       "{'A': 6, 'T': 7, 'C': 7, 'G': 6}"
      ]
     },
     "execution_count": 31,
     "metadata": {},
     "output_type": "execute_result"
    }
   ],
   "source": [
    "#Calculate the frequency of the symbols in a given sequence\n",
    "def freq(seq):\n",
    "    symbols = {}\n",
    "    for base in seq.upper():\n",
    "        if (base in symbols):\n",
    "            symbols[base] += 1\n",
    "        else:\n",
    "            symbols[base] = 0\n",
    "    return symbols\n",
    "\n",
    "# Test\n",
    "freq(\"ATCGTACGTAGCATGCTAGCTAGCTAGCTC\")"
   ]
  },
  {
   "cell_type": "code",
   "execution_count": 25,
   "metadata": {},
   "outputs": [
    {
     "name": "stdout",
     "output_type": "stream",
     "text": [
      "T : 7\n",
      "C : 7\n",
      "A : 6\n",
      "G : 6\n"
     ]
    }
   ],
   "source": [
    "#Using lambda notation to sort a dictionary with AA frquencies\n",
    "def sortDict(dic):\n",
    "    return sorted(dic.items(), key = lambda x: x[1], reverse = True) # x[1] accesses the value, x[0] the key\n",
    "\n",
    "for (k, v) in sortDict(freq(\"ATCGTACGTAGCATGCTAGCTAGCTAGCTC\")):\n",
    "    print(k , \":\" , v)"
   ]
  },
  {
   "cell_type": "code",
   "execution_count": 51,
   "metadata": {},
   "outputs": [
    {
     "data": {
      "text/plain": [
       "0.7368421052631579"
      ]
     },
     "execution_count": 51,
     "metadata": {},
     "output_type": "execute_result"
    }
   ],
   "source": [
    "#Returns the percentage of G and C nucleotides in a DNA sequence\n",
    "#Genes are tipically found in GC-rich regions of the genome\n",
    "def gcPercent(dna_seq):\n",
    "    gc_count = 0\n",
    "    for base in dna_seq.upper():\n",
    "        if base is \"G\" or base is \"C\":\n",
    "            gc_count += 1\n",
    "            \n",
    "    return gc_count / len(dna_seq)\n",
    "\n",
    "#Test\n",
    "gcPercent(\"GCGCTATGCTAGCGCGCGC\")"
   ]
  },
  {
   "cell_type": "code",
   "execution_count": 64,
   "metadata": {},
   "outputs": [
    {
     "data": {
      "text/plain": [
       "[0.6, 0.9, 0.6, 0.7, 0.8, 0.5]"
      ]
     },
     "execution_count": 64,
     "metadata": {},
     "output_type": "execute_result"
    }
   ],
   "source": [
    "# Parts the string in substring of size k\n",
    "def partString(string, k):\n",
    "    res = []\n",
    "    curr_k = 0\n",
    "    \n",
    "    for i in range(0, len(string), k):\n",
    "        res.append(string[i: i + k])\n",
    "        \n",
    "    return res\n",
    "\n",
    "def gcPercentSubseq(dna_seq, k):\n",
    "    return list(map(lambda x : gcPercent(x), partString(dna_seq.upper(), k)))\n",
    "    \n",
    "#Test\n",
    "gcPercentSubseq(\"GCGTAGCTAGCTGCGCGCGCGCTAGCTACGGCATGCTCGCGCGCGCGATCGATC\", 10)"
   ]
  },
  {
   "cell_type": "code",
   "execution_count": 67,
   "metadata": {},
   "outputs": [
    {
     "name": "stdout",
     "output_type": "stream",
     "text": [
      "AUGCU\n"
     ]
    }
   ],
   "source": [
    "# Function that computes the RNA corresponding to the transcription of the DNA sequence provided\n",
    "def transcription(dna_seq):\n",
    "    assert isValid(dna_seq)\n",
    "    return dna_seq.upper().replace(\"T\", \"U\")\n",
    "\n",
    "#Test\n",
    "print(transcription(\"ATGCT\"))"
   ]
  },
  {
   "cell_type": "code",
   "execution_count": 80,
   "metadata": {},
   "outputs": [
    {
     "data": {
      "text/plain": [
       "['G',\n",
       " 'C',\n",
       " 'T',\n",
       " 'A',\n",
       " 'G',\n",
       " 'C',\n",
       " 'A',\n",
       " 'T',\n",
       " 'G',\n",
       " 'C',\n",
       " 'T',\n",
       " 'A',\n",
       " 'C',\n",
       " 'G',\n",
       " 'T',\n",
       " 'A',\n",
       " 'C',\n",
       " 'G',\n",
       " 'T',\n",
       " 'A',\n",
       " 'C',\n",
       " 'G',\n",
       " 'T']"
      ]
     },
     "execution_count": 80,
     "metadata": {},
     "output_type": "execute_result"
    }
   ],
   "source": [
    "def complement(base):\n",
    "    switcher = {\"A\": \"T\",\n",
    "                \"T\": \"A\",\n",
    "                \"G\": \"C\",\n",
    "                \"C\": \"G\"}\n",
    "    return switcher[base]\n",
    "\n",
    "# Reverse Complement of a DNA molecule\n",
    "# We reverse the chain because that is how it is read (5' -> 3')\n",
    "def dnaComplement(dna_seq):\n",
    "    assert isValid(dna_seq)\n",
    "    res = []\n",
    "    \n",
    "    for base in reversed(dna_seq.upper()):\n",
    "        res.append(complement(base))\n",
    "    \n",
    "    return res\n",
    "\n",
    "#Test\n",
    "dnaComplement(\"ACGTACGTACGTAGCATGCTAGC\")"
   ]
  },
  {
   "cell_type": "code",
   "execution_count": 91,
   "metadata": {},
   "outputs": [
    {
     "data": {
      "text/plain": [
       "{'\"GCT': 'A',\n",
       " '\"GCC': 'A',\n",
       " '\"GCA': 'A',\n",
       " '\"GCG': 'A',\n",
       " '\"TGT': 'C',\n",
       " '\"TGC': 'C',\n",
       " '\"GAT': 'D',\n",
       " '\"GAC': 'D',\n",
       " '\"GAA': 'E',\n",
       " '\"GAG': 'E',\n",
       " '\"TTT': 'F',\n",
       " '\"TTC': 'F',\n",
       " '\"GGT': 'G',\n",
       " '\"GGC': 'G',\n",
       " '\"GGA': 'G',\n",
       " '\"GGG': 'G',\n",
       " '\"CAT': 'H',\n",
       " '\"CAC': 'H',\n",
       " '\"ATA': 'I',\n",
       " '\"ATT': 'I',\n",
       " '\"ATC': 'I',\n",
       " '\"AAA': 'K',\n",
       " '\"AAG': 'K',\n",
       " '\"TTA': 'L',\n",
       " '\"TTG': 'L',\n",
       " '\"CTT': 'L',\n",
       " '\"CTC': 'L',\n",
       " '\"CTA': 'L',\n",
       " '\"CTG': 'L',\n",
       " '\"ATG': 'M',\n",
       " '\"AAT': 'N',\n",
       " '\"AAC': 'N',\n",
       " '\"CCT': 'P',\n",
       " '\"CCC': 'P',\n",
       " '\"CCA': 'P',\n",
       " '\"CCG': 'P',\n",
       " '\"CAA': 'Q',\n",
       " '\"CAG': 'Q',\n",
       " '\"CGT': 'R',\n",
       " '\"CGC': 'R',\n",
       " '\"CGA': 'R',\n",
       " '\"CGG': 'R',\n",
       " '\"AGA': 'R',\n",
       " '\"AGG': 'R',\n",
       " '\"TCT': 'S',\n",
       " '\"TCC': 'S',\n",
       " '\"TCA': 'S',\n",
       " '\"TCG': 'S',\n",
       " '\"AGT': 'S',\n",
       " '\"AGC': 'S',\n",
       " '\"ACT': 'T',\n",
       " '\"ACC': 'T',\n",
       " '\"ACA': 'T',\n",
       " '\"ACG': 'T',\n",
       " '\"GTT': 'V',\n",
       " '\"GTC': 'V',\n",
       " '\"GTA': 'V',\n",
       " '\"GTG': 'V',\n",
       " '\"TGG': 'W',\n",
       " '\"TAT': 'Y',\n",
       " '\"TAC': 'Y',\n",
       " '\"TAA': '_',\n",
       " '\"TAG': '_',\n",
       " '\"TGA': '_'}"
      ]
     },
     "execution_count": 91,
     "metadata": {},
     "output_type": "execute_result"
    }
   ],
   "source": [
    "#Ler ficheiro 'genetic_code.txt' e guardar num dicionario\n",
    "def readFile(fileName):\n",
    "    return open(fileName, \"r\")\n",
    "\n",
    "def readGeneticCode(fileName):\n",
    "    dic = {}\n",
    "    for line in readFile(fileName):\n",
    "        dic[line[0:4]] = line[7]\n",
    "    return dic\n",
    "\n",
    "#Test\n",
    "readGeneticCode(\"files/genetic_code.txt\")"
   ]
  },
  {
   "cell_type": "code",
   "execution_count": null,
   "metadata": {},
   "outputs": [],
   "source": []
  }
 ],
 "metadata": {
  "kernelspec": {
   "display_name": "Python 3",
   "language": "python",
   "name": "python3"
  },
  "language_info": {
   "codemirror_mode": {
    "name": "ipython",
    "version": 3
   },
   "file_extension": ".py",
   "mimetype": "text/x-python",
   "name": "python",
   "nbconvert_exporter": "python",
   "pygments_lexer": "ipython3",
   "version": "3.7.2"
  }
 },
 "nbformat": 4,
 "nbformat_minor": 2
}
