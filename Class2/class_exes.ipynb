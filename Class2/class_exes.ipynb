{
 "cells": [
  {
   "cell_type": "code",
   "execution_count": 14,
   "metadata": {},
   "outputs": [
    {
     "data": {
      "text/plain": [
       "True"
      ]
     },
     "execution_count": 14,
     "metadata": {},
     "output_type": "execute_result"
    }
   ],
   "source": [
    "valid = \"ACTATCTACTACTATCTATGCTAGCTAGCTAGCTAGCATCGA\"\n",
    "\n",
    "#Test if a given sequence is a valid DNA sequence\n",
    "def isValid(seq):\n",
    "    alphabet = [\"A\", \"T\", \"G\", \"C\"]\n",
    "    for base in seq:\n",
    "        if base not in alphabet:\n",
    "            return False\n",
    "    return True\n",
    "\n",
    "# Test\n",
    "isValid(valid) # True"
   ]
  },
  {
   "cell_type": "code",
   "execution_count": 15,
   "metadata": {},
   "outputs": [
    {
     "data": {
      "text/plain": [
       "False"
      ]
     },
     "execution_count": 15,
     "metadata": {},
     "output_type": "execute_result"
    }
   ],
   "source": [
    "# Test\n",
    "isValid(\"AGCTAGCTGACUGCYAGCACGAYGC\")"
   ]
  },
  {
   "cell_type": "code",
   "execution_count": 12,
   "metadata": {},
   "outputs": [
    {
     "data": {
      "text/plain": [
       "{'A': 6, 'T': 7, 'C': 7, 'G': 6}"
      ]
     },
     "execution_count": 12,
     "metadata": {},
     "output_type": "execute_result"
    }
   ],
   "source": [
    "#Calculate the frequency of the symbols in a given sequence\n",
    "def freq(seq):\n",
    "    symbols = {}\n",
    "    for base in seq:\n",
    "        if (base in symbols):\n",
    "            symbols[base] += 1\n",
    "        else:\n",
    "            symbols[base] = 0\n",
    "    return symbols\n",
    "\n",
    "# Test\n",
    "freq(\"ATCGTACGTAGCATGCTAGCTAGCTAGCTC\")"
   ]
  },
  {
   "cell_type": "code",
   "execution_count": 24,
   "metadata": {},
   "outputs": [
    {
     "name": "stdout",
     "output_type": "stream",
     "text": [
      "T : 7\n",
      "C : 7\n",
      "A : 6\n",
      "G : 6\n"
     ]
    }
   ],
   "source": [
    "#Using lambda notation to sort a dictionary with AA frquencies\n",
    "def sortDict(dic):\n",
    "    return sorted(freq_aa.items(), key = lambda x: x[1], reverse = True) # x[1] accesses the value, x[0] the key\n",
    "\n",
    "for (k, v) in sortDict(freq(\"ATCGTACGTAGCATGCTAGCTAGCTAGCTC\")):\n",
    "    print(k , \":\" , v)"
   ]
  },
  {
   "cell_type": "code",
   "execution_count": null,
   "metadata": {},
   "outputs": [],
   "source": []
  }
 ],
 "metadata": {
  "kernelspec": {
   "display_name": "Python 3",
   "language": "python",
   "name": "python3"
  },
  "language_info": {
   "codemirror_mode": {
    "name": "ipython",
    "version": 3
   },
   "file_extension": ".py",
   "mimetype": "text/x-python",
   "name": "python",
   "nbconvert_exporter": "python",
   "pygments_lexer": "ipython3",
   "version": "3.7.2"
  }
 },
 "nbformat": 4,
 "nbformat_minor": 2
}
