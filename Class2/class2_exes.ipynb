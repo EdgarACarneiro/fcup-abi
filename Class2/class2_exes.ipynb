{
 "cells": [
  {
   "cell_type": "code",
   "execution_count": 46,
   "metadata": {},
   "outputs": [
    {
     "data": {
      "text/plain": [
       "True"
      ]
     },
     "execution_count": 46,
     "metadata": {},
     "output_type": "execute_result"
    }
   ],
   "source": [
    "valid = \"ACTATCTACTACTATCTATGCTAGCTAGCTAGCTAGCATCGA\"\n",
    "\n",
    "#Test if a given sequence is a valid DNA sequence\n",
    "def isValid(seq):\n",
    "    alphabet = [\"A\", \"T\", \"G\", \"C\"]\n",
    "    for base in seq.upper():\n",
    "        if base not in alphabet:\n",
    "            return False\n",
    "    return True\n",
    "\n",
    "# Test\n",
    "isValid(valid) # True"
   ]
  },
  {
   "cell_type": "code",
   "execution_count": 15,
   "metadata": {},
   "outputs": [
    {
     "data": {
      "text/plain": [
       "False"
      ]
     },
     "execution_count": 15,
     "metadata": {},
     "output_type": "execute_result"
    }
   ],
   "source": [
    "# Test\n",
    "isValid(\"AGCTAGCTGACUGCYAGCACGAYGC\")"
   ]
  },
  {
   "cell_type": "code",
   "execution_count": 31,
   "metadata": {},
   "outputs": [
    {
     "data": {
      "text/plain": [
       "{'A': 6, 'T': 7, 'C': 7, 'G': 6}"
      ]
     },
     "execution_count": 31,
     "metadata": {},
     "output_type": "execute_result"
    }
   ],
   "source": [
    "#Calculate the frequency of the symbols in a given sequence\n",
    "def freq(seq):\n",
    "    symbols = {}\n",
    "    for base in seq.upper():\n",
    "        if (base in symbols):\n",
    "            symbols[base] += 1\n",
    "        else:\n",
    "            symbols[base] = 0\n",
    "    return symbols\n",
    "\n",
    "# Test\n",
    "freq(\"ATCGTACGTAGCATGCTAGCTAGCTAGCTC\")"
   ]
  },
  {
   "cell_type": "code",
   "execution_count": 25,
   "metadata": {},
   "outputs": [
    {
     "name": "stdout",
     "output_type": "stream",
     "text": [
      "T : 7\n",
      "C : 7\n",
      "A : 6\n",
      "G : 6\n"
     ]
    }
   ],
   "source": [
    "#Using lambda notation to sort a dictionary with AA frquencies\n",
    "def sortDict(dic):\n",
    "    return sorted(dic.items(), key = lambda x: x[1], reverse = True) # x[1] accesses the value, x[0] the key\n",
    "\n",
    "for (k, v) in sortDict(freq(\"ATCGTACGTAGCATGCTAGCTAGCTAGCTC\")):\n",
    "    print(k , \":\" , v)"
   ]
  },
  {
   "cell_type": "code",
   "execution_count": 51,
   "metadata": {},
   "outputs": [
    {
     "data": {
      "text/plain": [
       "0.7368421052631579"
      ]
     },
     "execution_count": 51,
     "metadata": {},
     "output_type": "execute_result"
    }
   ],
   "source": [
    "#Returns the percentage of G and C nucleotides in a DNA sequence\n",
    "#Genes are tipically found in GC-rich regions of the genome\n",
    "def gcPercent(dna_seq):\n",
    "    gc_count = 0\n",
    "    for base in dna_seq.upper():\n",
    "        if base is \"G\" or base is \"C\":\n",
    "            gc_count += 1\n",
    "            \n",
    "    return gc_count / len(dna_seq)\n",
    "\n",
    "#Test\n",
    "gcPercent(\"GCGCTATGCTAGCGCGCGC\")"
   ]
  },
  {
   "cell_type": "code",
   "execution_count": 64,
   "metadata": {},
   "outputs": [
    {
     "data": {
      "text/plain": [
       "[0.6, 0.9, 0.6, 0.7, 0.8, 0.5]"
      ]
     },
     "execution_count": 64,
     "metadata": {},
     "output_type": "execute_result"
    }
   ],
   "source": [
    "# Parts the string in substring of size k\n",
    "def partString(string, k):\n",
    "    res = []\n",
    "    curr_k = 0\n",
    "    \n",
    "    for i in range(0, len(string), k):\n",
    "        res.append(string[i: i + k])\n",
    "        \n",
    "    return res\n",
    "\n",
    "def gcPercentSubseq(dna_seq, k):\n",
    "    return list(map(lambda x : gcPercent(x), partString(dna_seq.upper(), k)))\n",
    "    \n",
    "#Test\n",
    "gcPercentSubseq(\"GCGTAGCTAGCTGCGCGCGCGCTAGCTACGGCATGCTCGCGCGCGCGATCGATC\", 10)"
   ]
  },
  {
   "cell_type": "code",
   "execution_count": 67,
   "metadata": {},
   "outputs": [
    {
     "name": "stdout",
     "output_type": "stream",
     "text": [
      "AUGCU\n"
     ]
    }
   ],
   "source": [
    "# Function that computes the RNA corresponding to the transcription of the DNA sequence provided\n",
    "def transcription(dna_seq):\n",
    "    assert isValid(dna_seq)\n",
    "    return dna_seq.upper().replace(\"T\", \"U\")\n",
    "\n",
    "#Test\n",
    "print(transcription(\"ATGCT\"))"
   ]
  },
  {
   "cell_type": "code",
   "execution_count": 80,
   "metadata": {},
   "outputs": [
    {
     "data": {
      "text/plain": [
       "['G',\n",
       " 'C',\n",
       " 'T',\n",
       " 'A',\n",
       " 'G',\n",
       " 'C',\n",
       " 'A',\n",
       " 'T',\n",
       " 'G',\n",
       " 'C',\n",
       " 'T',\n",
       " 'A',\n",
       " 'C',\n",
       " 'G',\n",
       " 'T',\n",
       " 'A',\n",
       " 'C',\n",
       " 'G',\n",
       " 'T',\n",
       " 'A',\n",
       " 'C',\n",
       " 'G',\n",
       " 'T']"
      ]
     },
     "execution_count": 80,
     "metadata": {},
     "output_type": "execute_result"
    }
   ],
   "source": [
    "def complement(base):\n",
    "    switcher = {\"A\": \"T\",\n",
    "                \"T\": \"A\",\n",
    "                \"G\": \"C\",\n",
    "                \"C\": \"G\"}\n",
    "    return switcher[base]\n",
    "\n",
    "# Reverse Complement of a DNA molecule\n",
    "# We reverse the chain because that is how it is read (5' -> 3')\n",
    "def dnaComplement(dna_seq):\n",
    "    assert isValid(dna_seq)\n",
    "    res = []\n",
    "    \n",
    "    for base in reversed(dna_seq.upper()):\n",
    "        res.append(complement(base))\n",
    "    \n",
    "    return res\n",
    "\n",
    "#Test\n",
    "dnaComplement(\"ACGTACGTACGTAGCATGCTAGC\")"
   ]
  },
  {
   "cell_type": "code",
   "execution_count": 41,
   "metadata": {},
   "outputs": [
    {
     "name": "stdout",
     "output_type": "stream",
     "text": [
      "{'GCT': 'A', 'GCC': 'A', 'GCA': 'A', 'GCG': 'A', 'TGT': 'C', 'TGC': 'C', 'GAT': 'D', 'GAC': 'D', 'GAA': 'E', 'GAG': 'E', 'TTT': 'F', 'TTC': 'F', 'GGT': 'G', 'GGC': 'G', 'GGA': 'G', 'GGG': 'G', 'CAT': 'H', 'CAC': 'H', 'ATA': 'I', 'ATT': 'I', 'ATC': 'I', 'AAA': 'K', 'AAG': 'K', 'TTA': 'L', 'TTG': 'L', 'CTT': 'L', 'CTC': 'L', 'CTA': 'L', 'CTG': 'L', 'ATG': 'M', 'AAT': 'N', 'AAC': 'N', 'CCT': 'P', 'CCC': 'P', 'CCA': 'P', 'CCG': 'P', 'CAA': 'Q', 'CAG': 'Q', 'CGT': 'R', 'CGC': 'R', 'CGA': 'R', 'CGG': 'R', 'AGA': 'R', 'AGG': 'R', 'TCT': 'S', 'TCC': 'S', 'TCA': 'S', 'TCG': 'S', 'AGT': 'S', 'AGC': 'S', 'ACT': 'T', 'ACC': 'T', 'ACA': 'T', 'ACG': 'T', 'GTT': 'V', 'GTC': 'V', 'GTA': 'V', 'GTG': 'V', 'TGG': 'W', 'TAT': 'Y', 'TAC': 'Y', 'TAA': '_', 'TAG': '_', 'TGA': '_'}\n"
     ]
    },
    {
     "data": {
      "text/plain": [
       "'A'"
      ]
     },
     "execution_count": 41,
     "metadata": {},
     "output_type": "execute_result"
    }
   ],
   "source": [
    "#Ler ficheiro 'genetic_code.txt' e guardar num dicionario\n",
    "def readFile(fileName):\n",
    "    return open(fileName, \"r\")\n",
    "\n",
    "def writeFile(fileName):\n",
    "    return open(fileName, \"w+\") #The + creates a file if it does not exist\n",
    "\n",
    "def readGeneticCode(fileName):\n",
    "    dic = {}\n",
    "    for line in readFile(fileName):\n",
    "        dic[line[1:4]] = line[7]\n",
    "    return dic\n",
    "\n",
    "#Test\n",
    "genetic = readGeneticCode(\"files/genetic_code.txt\")\n",
    "print(genetic)\n",
    "genetic['GCT']"
   ]
  },
  {
   "cell_type": "markdown",
   "metadata": {},
   "source": [
    "## Part 2 of Class 2"
   ]
  },
  {
   "cell_type": "code",
   "execution_count": 31,
   "metadata": {},
   "outputs": [
    {
     "name": "stdout",
     "output_type": "stream",
     "text": [
      "ATTTAAAAGAACTTAATGATCAAGTTCATCAAAATCTTATTGGGGTGCCAAATAAACGTACCCTTGAATTTGCAAAATATTTGCAAAAACGTAATCAACATACCTGGATTCGTTATGTTGTGGTTCCTGGTTATACTGATAGCGATCACGATGTGCATTTATTAGGTCAGTTTATTGAAGGTATGACCAATATTGAAAAAGTTGAACTTCTTCCTTATCATCGATTAGGTGTGCATAAATGGAAAACCCTTGGGTTAGATTATGAGCTTGAAAATGTATTACCGCCAACTAAAGAATCCTTAGAACATATTAAAACAATCCTAGAAGGTTATGGACACACTGTAAAATTCTAGAATAAATGTCAGCTAACATAAGGAGTAAATAATGAAAAAAATTATTTTAACATTATCACTTGGGTTACTTACCGCTTGTTCTGCTCAAATCCAAAAGGCTGAACAAAATGATGTGAAGCTGGCACCGCCGACTGATGTACGAAGCGGATATATACGTTTGGTAAAGAATGTGAATTATTACATCGATAGTGAATCGATCTGGGTGGATAACCAAGAGCCACAAATTGTACATTTTGATGCTGTGGTGAATTTAGATAGGGGATTGTATGTTTATCCTGAGCCTAAACGTTATGCACGTTCTGTTCGTCAGTATAAGATTTTGAATTGTGCAAATTATCATTTAACTCAAATACGAACTGATTTCTATGATGAATTTTGGGGACAGGGTTTGCGGGCAGCACCTAAAAAGCAAAAGAAACATACGTTAAGTTTAACACCTGATACAACGCTTTATAATGCTGCTCAGATTATTTGTGCAAATTATGGTAAAGCATTTTCAGTTGATAAAAAATAAAAAAATCTGCACCTTAATTAGTTTAAATTTTATTCAATTTTTAGGGTGCAGAGAGTATTCGATTTTTCTGCAGTTATTGCTATTTTACTGCTGGCACTTTTAAGTCTGGCTCGTTTGGTTTTTCAATTGGTGCAAAAGTTTTATCTTTATTCGCATCAATAATTTTTTGAGTATCATTTGCTAATGCGGTTAAACCCATTTTTTCATAAGCTTCCTGCATCAGAAATAATCCTTCATAAGTTGCTTTAGTATCAGGATATTGTTTTAACATTCCTACCACACGATTTGCAACTGCTACCCACGCTTTACGTTTTGCATAGAATTTTGCAATCTCTAATTCGTGACGAGCCAGTGCATCTTTAATATAAGCCATACGAGCTAAAGCAT\n"
     ]
    }
   ],
   "source": [
    "def readSequence(fileName):\n",
    "    seq = \"\"\n",
    "    for line in readFile(fileName):\n",
    "        seq += line.strip()\n",
    "    return seq\n",
    "\n",
    "def writeSequence(seq, fileName):\n",
    "    f = writeFile(fileName)\n",
    "    for i in range(0, len(seq), 60):\n",
    "        f.write(seq[i: i + 60] + '\\n')\n",
    "    f.close()\n",
    "    \n",
    "#Test\n",
    "seq = readSequence(\"files/example_Hinfluenzae.txt\")\n",
    "print(seq)\n",
    "# writeSequence(seq, \"test.txt\")"
   ]
  },
  {
   "cell_type": "code",
   "execution_count": 39,
   "metadata": {},
   "outputs": [
    {
     "name": "stdout",
     "output_type": "stream",
     "text": [
      "\tORF number 1 in reading frame 1 on the direct strand extends from base 16 to base 165.\n",
      "ATGATCAAGTTCATCAAAATCTTATTGGGGTGCCAAATAAACGTACCCTTGAATTTGCAAAATATTTGCAAAAACGTAATCAACATACCTGGATTCGTTATGTTGTGGTTCCTGGTTATACTGATAGCGATCACGATGTGCATTTATTAG\n",
      "\tTranslation of ORF number 1 in reading frame 1 on the direct strand.\n",
      "MIKFIKILLGCQINVPLNLQNICKNVINIPGFVMLWFLVILIAITMCIY*\n",
      "\tORF number 2 in reading frame 1 on the direct strand extends from base 385 to base 867.\n",
      "ATGAAAAAAATTATTTTAACATTATCACTTGGGTTACTTACCGCTTGTTCTGCTCAAATCCAAAAGGCTGAACAAAATGATGTGAAGCTGGCACCGCCGACTGATGTACGAAGCGGATATATACGTTTGGTAAAGAATGTGAATTATTACATCGATAGTGAATCGATCTGGGTGGATAACCAAGAGCCACAAATTGTACATTTTGATGCTGTGGTGAATTTAGATAGGGGATTGTATGTTTATCCTGAGCCTAAACGTTATGCACGTTCTGTTCGTCAGTATAAGATTTTGAATTGTGCAAATTATCATTTAACTCAAATACGAACTGATTTCTATGATGAATTTTGGGGACAGGGTTTGCGGGCAGCACCTAAAAAGCAAAAGAAACATACGTTAAGTTTAACACCTGATACAACGCTTTATAATGCTGCTCAGATTATTTGTGCAAATTATGGTAAAGCATTTTCAGTTGATAAAAAATAA\n",
      "\tTranslation of ORF number 2 in reading frame 1 on the direct strand.\n",
      "MKKIILTLSLGLLTACSAQIQKAEQNDVKLAPPTDVRSGYIRLVKNVNYYIDSESIWVDNQEPQIVHFDAVVNLDRGLYVYPEPKRYARSVRQYKILNCANYHLTQIRTDFYDEFWGQGLRAAPKKQKKHTLSLTPDTTLYNAAQIICANYGKAFSVDKK*\n",
      "\tORF number 1 in reading frame 2 on the direct strand extends from base 809 to base 970.\n",
      "ATGCTGCTCAGATTATTTGTGCAAATTATGGTAAAGCATTTTCAGTTGATAAAAAATAAAAAAATCTGCACCTTAATTAGTTTAAATTTTATTCAATTTTTAGGGTGCAGAGAGTATTCGATTTTTCTGCAGTTATTGCTATTTTACTGCTGGCACTTTTAA\n",
      "\tTranslation of ORF number 1 in reading frame 2 on the direct strand.\n",
      "MLLRLFVQIMVKHFQLIKNKKICTLISLNFIQFLGCREYSIFLQLLLFYCWHF*\n",
      "\tORF number 1 in reading frame 3 on the direct strand extends from base 183 to base 353.\n",
      "ATGACCAATATTGAAAAAGTTGAACTTCTTCCTTATCATCGATTAGGTGTGCATAAATGGAAAACCCTTGGGTTAGATTATGAGCTTGAAAATGTATTACCGCCAACTAAAGAATCCTTAGAACATATTAAAACAATCCTAGAAGGTTATGGACACACTGTAAAATTCTAG\n",
      "\tTranslation of ORF number 1 in reading frame 3 on the direct strand.\n",
      "MTNIEKVELLPYHRLGVHKWKTLGLDYELENVLPPTKESLEHIKTILEGYGHTVKF*\n",
      "\tORF number 1 in reading frame 1 on the reverse strand extends from base 562 to base 651.\n",
      "ATGATAATTTGCACAATTCAAAATCTTATACTGACGAACAGAACGTGCATAACGTTTAGGCTCAGGATAAACATACAATCCCCTATCTAA\n",
      "\tTranslation of ORF number 1 in reading frame 1 on the reverse strand.\n",
      "MIICTIQNLILTNRTCITFRLRINIQSPI*\n",
      "\tORF number 2 in reading frame 1 on the reverse strand extends from base 670 to base 837.\n",
      "ATGTACAATTTGTGGCTCTTGGTTATCCACCCAGATCGATTCACTATCGATGTAATAATTCACATTCTTTACCAAACGTATATATCCGCTTCGTACATCAGTCGGCGGTGCCAGCTTCACATCATTTTGTTCAGCCTTTTGGATTTGAGCAGAACAAGCGGTAAGTAA\n",
      "\tTranslation of ORF number 2 in reading frame 1 on the reverse strand.\n",
      "MYNLWLLVIHPDRFTIDVIIHILYQTYISASYISRRCQLHIILFSLLDLSRTSGK*\n",
      "\tORF number 1 in reading frame 2 on the reverse strand extends from base 1097 to base 1252.\n",
      "ATGCACATCGTGATCGCTATCAGTATAACCAGGAACCACAACATAACGAATCCAGGTATGTTGATTACGTTTTTGCAAATATTTTGCAAATTCAAGGGTACGTTTATTTGGCACCCCAATAAGATTTTGATGAACTTGATCATTAAGTTCTTTTAA\n",
      "\tTranslation of ORF number 1 in reading frame 2 on the reverse strand.\n",
      "MHIVIAISITRNHNITNPGMLITFLQIFCKFKGTFIWHPNKILMNLIIKFF*\n",
      "\tORF number 1 in reading frame 3 on the reverse strand extends from base 15 to base 308.\n",
      "ATGGCTTATATTAAAGATGCACTGGCTCGTCACGAATTAGAGATTGCAAAATTCTATGCAAAACGTAAAGCGTGGGTAGCAGTTGCAAATCGTGTGGTAGGAATGTTAAAACAATATCCTGATACTAAAGCAACTTATGAAGGATTATTTCTGATGCAGGAAGCTTATGAAAAAATGGGTTTAACCGCATTAGCAAATGATACTCAAAAAATTATTGATGCGAATAAAGATAAAACTTTTGCACCAATTGAAAAACCAAACGAGCCAGACTTAAAAGTGCCAGCAGTAAAATAG\n"
     ]
    }
   ],
   "source": [
    "\n",
    "def readFastaFile(fileName):\n",
    "    fasta = {}\n",
    "    helperSeq = \"\"\n",
    "    currFasta = \"\"\n",
    "    \n",
    "    for line in readFile(fileName):\n",
    "        l = line.strip()\n",
    "        \n",
    "        if l is \"\" and currFasta is not \"\":\n",
    "            fasta[currFasta] = helperSeq\n",
    "            helperSeq = \"\"\n",
    "            currFasta = \"\"\n",
    "        \n",
    "        if currFasta is not \"\":\n",
    "            helperSeq += l\n",
    "        \n",
    "        if (l.strip()[0:1] is \">\"):\n",
    "            currFasta = line[1:len(l)]\n",
    "            \n",
    "    return fasta\n",
    "\n",
    "# Test\n",
    "fasta = readFastaFile(\"files/example_Hinfluenzae.openreadingframes.txt\")\n",
    "for k, v in fasta.items():\n",
    "    print(\"\\t\" + k +  \"\\n\" + v)"
   ]
  },
  {
   "cell_type": "code",
   "execution_count": 59,
   "metadata": {},
   "outputs": [
    {
     "data": {
      "text/plain": [
       "'TIYCS_LAS_'"
      ]
     },
     "execution_count": 59,
     "metadata": {},
     "output_type": "execute_result"
    }
   ],
   "source": [
    "# Translating a sequence, using a given dictionary\n",
    "def translate(seq, dictionary, iniPos = 0):\n",
    "    assert isValid(seq)\n",
    "    trans = \"\"\n",
    "    \n",
    "    for i in range(iniPos, len(seq) - 2, 3):\n",
    "        trans += dictionary[seq[i: i + 3]] # Missing handling of unknown triplets\n",
    "    return trans\n",
    "\n",
    "# Test\n",
    "translate(\"ACTATCTACTGTAGCTAGCTAGCTAGCTAGTGC\", readGeneticCode(\"files/genetic_code.txt\"))\n",
    "translate(\"ACTATCTACTGTAGCTAGCTAGCTAGCTAGTG\", readGeneticCode(\"files/genetic_code.txt\"))\n",
    "# O último teste, não processa os útlimos 2, pq são necessarios 3 para um codão"
   ]
  },
  {
   "cell_type": "code",
   "execution_count": 72,
   "metadata": {},
   "outputs": [
    {
     "data": {
      "text/plain": [
       "{'CGT': 0.5, 'CGC': 0.5}"
      ]
     },
     "execution_count": 72,
     "metadata": {},
     "output_type": "execute_result"
    }
   ],
   "source": [
    "# Provides the frequency of each codon encoding a given aminoacid, in a DNA sequence\n",
    "def codonUsage(seq, aminoacid, dictionary, iniPos = 0):\n",
    "    assert isValid(seq)\n",
    "    freq = {}\n",
    "    total = 0\n",
    "    \n",
    "    for k,v in dictionary.items():\n",
    "        if v is aminoacid:\n",
    "            freq[k] = 0\n",
    "    \n",
    "    for i in range(iniPos, len(seq) - 2, 3):\n",
    "        if seq[i: i + 3] in freq:\n",
    "            freq[seq[i: i + 3]] += 1\n",
    "            total += 1\n",
    "            \n",
    "    if total > 0:\n",
    "        for k in freq:\n",
    "            freq[k] /= total\n",
    "        \n",
    "    return {k:v for (k,v) in freq.items() if v > 0} # Filter the dictionary\n",
    "\n",
    "# Test\n",
    "codonUsage(\"AGCTAGCTAGCTACATCAAACGATCGTCGCTAGCTAGCTAC\", \"R\", readGeneticCode(\"files/genetic_code.txt\"))"
   ]
  },
  {
   "cell_type": "markdown",
   "metadata": {},
   "source": [
    "#### A possible protein starts with an M (Meteonin) and ends with an end aminoacid '_'"
   ]
  },
  {
   "cell_type": "code",
   "execution_count": 18,
   "metadata": {},
   "outputs": [
    {
     "data": {
      "text/plain": [
       "['MIEDEMIDMAEIDIAEMD_', 'MIDMAEIDIAEMD_', 'MAEIDIAEMD_', 'MD_']"
      ]
     },
     "execution_count": 18,
     "metadata": {},
     "output_type": "execute_result"
    }
   ],
   "source": [
    "# Computes all possible proteins in an aminoacid sequence\n",
    "def allProteinsRf(aaSeq): \n",
    "    proteins = []\n",
    "    curr = []\n",
    "    begin = False\n",
    "    \n",
    "    for aa in aaSeq:\n",
    "        if aa is \"M\":\n",
    "            curr.append(\"M\")\n",
    "            begin = True\n",
    "            continue\n",
    "        \n",
    "        if begin:\n",
    "            curr[len(curr) - 1] += aa\n",
    "            \n",
    "        if aa is \"_\" and begin:\n",
    "            for i in range(0, len(curr)):\n",
    "                seq = \"\"\n",
    "                for j in range(i, len(curr)) :\n",
    "                    seq += curr[j]\n",
    "                proteins.append(seq)\n",
    "            curr = []\n",
    "            begin = False\n",
    "    \n",
    "    return proteins\n",
    "\n",
    "# Test\n",
    "allProteinsRf(\"AIAEMINRED_PIMAED\") #MINRED_\n",
    "allProteinsRf(\"AEDIAUEDUIAEUDU_\") # []\n",
    "allProteinsRf(\"ANEDJAEDMOAKEDOIOIEDKOAKED\") # []\n",
    "allProteinsRf(\"IAEMIEDEMIDMAEIDIAEMD_OMAED\") #MIEDEMIDMAEIDMIAEMD_, MIDMAEIDMIAEMD_, MAEIDMIAEMD, MD_"
   ]
  },
  {
   "cell_type": "code",
   "execution_count": null,
   "metadata": {},
   "outputs": [],
   "source": []
  }
 ],
 "metadata": {
  "kernelspec": {
   "display_name": "Python 3",
   "language": "python",
   "name": "python3"
  },
  "language_info": {
   "codemirror_mode": {
    "name": "ipython",
    "version": 3
   },
   "file_extension": ".py",
   "mimetype": "text/x-python",
   "name": "python",
   "nbconvert_exporter": "python",
   "pygments_lexer": "ipython3",
   "version": "3.7.2"
  }
 },
 "nbformat": 4,
 "nbformat_minor": 2
}
