{
 "cells": [
  {
   "cell_type": "code",
   "execution_count": 4,
   "metadata": {},
   "outputs": [
    {
     "data": {
      "text/plain": [
       "[[0, 0], [0, 0], [0, 0]]"
      ]
     },
     "execution_count": 4,
     "metadata": {},
     "output_type": "execute_result"
    }
   ],
   "source": [
    "# Writes a function that given the number of rows and columns creates a numerical matrix\n",
    "def matrix(row, col, val = 0):\n",
    "    return [[val] * col for _ in range(0, row)]\n",
    "\n",
    "# Test\n",
    "matrix(3,2)"
   ]
  },
  {
   "cell_type": "code",
   "execution_count": 16,
   "metadata": {},
   "outputs": [
    {
     "data": {
      "text/plain": [
       "[[0, 0, 0, 0], [1, 1, 0, 0], [0, 0, 0, 0], [0, 0, 1, 1]]"
      ]
     },
     "execution_count": 16,
     "metadata": {},
     "output_type": "execute_result"
    }
   ],
   "source": [
    "# Write a functin that given 2 sequences creates a dot plot by filling the matrix\n",
    "# with 1s where there is a match and 0s where there is a mismatch\n",
    "def dot_plot(seq1, seq2):\n",
    "    return [[1 if seq2[j] == seq1[i] else 0 for j in range(0, len(seq2))] for i in range(0, len(seq1))];\n",
    "    \n",
    "# Test\n",
    "dot_plot(\"ATCG\", \"TTGG\")"
   ]
  },
  {
   "cell_type": "code",
   "execution_count": 21,
   "metadata": {},
   "outputs": [
    {
     "name": "stdout",
     "output_type": "stream",
     "text": [
      "  | T | T | G | G | \n",
      "- | - | - | - | - | \n",
      "A | 0 | 0 | 0 | 0 | \n",
      "T | 1 | 1 | 0 | 0 | \n",
      "C | 0 | 0 | 0 | 0 | \n",
      "G | 0 | 0 | 1 | 1 | \n"
     ]
    }
   ],
   "source": [
    "# Dot plot pretty printing\n",
    "def pretty_row(label, row):\n",
    "    print(label + ' | ' +\\\n",
    "         \"\".join([str(el) + ' | ' for el in row]))\n",
    "\n",
    "def pretty_dot_plot(seq1, seq2):\n",
    "    plot = dot_plot(seq1, seq2)\n",
    "    \n",
    "    pretty_row(' ', seq2)\n",
    "    pretty_row('-', ['-'] * len(seq2))\n",
    "    for i in range(0, len(seq1)):\n",
    "        pretty_row(seq1[i], plot[i])\n",
    "        \n",
    "    \n",
    "# Test\n",
    "pretty_dot_plot(\"ATCG\", \"TTGG\")"
   ]
  },
  {
   "cell_type": "code",
   "execution_count": 20,
   "metadata": {},
   "outputs": [],
   "source": [
    "# In order to reduce noise , filter the alignment by a minimum of matches.\n",
    "# Apply a scaninng window around each position and count the number of matching characters.\n",
    "# If they pass a stringency threshold keep the alignment.\n",
    "def extended_dotplot(seq1, seq2, window, stringency):\n",
    "    # Window na diagonal p tras e p frente"
   ]
  },
  {
   "cell_type": "code",
   "execution_count": null,
   "metadata": {},
   "outputs": [],
   "source": []
  }
 ],
 "metadata": {
  "kernelspec": {
   "display_name": "Python 3",
   "language": "python",
   "name": "python3"
  },
  "language_info": {
   "codemirror_mode": {
    "name": "ipython",
    "version": 3
   },
   "file_extension": ".py",
   "mimetype": "text/x-python",
   "name": "python",
   "nbconvert_exporter": "python",
   "pygments_lexer": "ipython3",
   "version": "3.7.2"
  }
 },
 "nbformat": 4,
 "nbformat_minor": 2
}
