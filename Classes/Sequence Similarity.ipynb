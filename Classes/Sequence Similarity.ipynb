{
 "cells": [
  {
   "cell_type": "markdown",
   "metadata": {},
   "source": [
    "# Useful Functions from Previous Classes"
   ]
  },
  {
   "cell_type": "code",
   "execution_count": 16,
   "metadata": {},
   "outputs": [],
   "source": [
    "# Read substitution table from a table on a existing file.\n",
    "# Assume the matrix is symmetric and first row contains the symbols in the alphabet\n",
    "def read_submat_file(filename):\n",
    "    f = open(filename, \"r\")\n",
    "    alphabet = [symbol for symbol in f.readline().replace('\\n', '').split('\\t')]\n",
    "        \n",
    "    dic = {}\n",
    "    for i, line in enumerate(f):\n",
    "        line_symbol = line.replace('\\n', '').split('\\t')\n",
    "        \n",
    "        for j in range(0, len(line_symbol)):\n",
    "            dic[alphabet[i] + alphabet[j]] = int(line_symbol[j])\n",
    "            \n",
    "    f.close()\n",
    "    return dic\n",
    "\n",
    "# Provides the score of a column alignment (between c1 and c2)\n",
    "# Assume a constant gap penalty g and a substituin matrix sm\n",
    "def score_alignment(c1, c2, sm, g):\n",
    "    return g if c1 == '-' or c2 == '-' else sm[c1+c2]\n",
    "\n",
    "def max3(v1, v2, v3):\n",
    "    \"\"\"Indicates which of the given integers is bigger: 1 2 or 3\"\"\"\n",
    "    if v1 > v2:\n",
    "        return 1 if v1 > v3 else 3\n",
    "    else:\n",
    "        return 2 if v2 > v3 else 3\n",
    "\n",
    "# Smith-Waterman Alignment\n",
    "def smith_waterman(seq1, seq2, sm, g):\n",
    "    \"\"\"Local Alignment using Smith-Waterman algorithm\"\"\"\n",
    "    score = [[0]]\n",
    "    trace = [[0]]\n",
    "    maxscore = 0\n",
    "    \n",
    "    # initialize gaps in cols\n",
    "    for i in range(1, len(seq1) + 1):\n",
    "        score.append([0])\n",
    "        trace.append([0])\n",
    "    \n",
    "    # initialize gaps in rows\n",
    "    for j in range(1, len(seq2) + 1):\n",
    "        score[0].append(0)\n",
    "        trace[0].append(0)\n",
    "        \n",
    "    # apply the recurrence to fill the matrices\n",
    "    for i in range(1, len(seq1) + 1):\n",
    "        for j in range(1, len(seq2) + 1):\n",
    "            v1 = score[i-1][j-1] + score_alignment(seq1[i-1], seq2[j-1], sm, g)\n",
    "            v2 = score[i-1][j] + g\n",
    "            v3 = score[i][j-1] + g\n",
    "            max_v = max(v1, v2, v3)\n",
    "            \n",
    "            score[i].append(0 if max_v <= 0 else max_v)\n",
    "            trace[i].append(0 if max_v <= 0 else max3(v1, v2, v3))\n",
    "            maxscore = maxscore if max_v < maxscore else max_v\n",
    "    \n",
    "    return (score, trace, maxscore)\n",
    "\n",
    "# Coppied Teacher's code -> can it be improved?\n",
    "def max_mat(mat):\n",
    "    \"\"\"finds the max cell in the matrix\"\"\"\n",
    "    maxval = mat[0][0]\n",
    "    maxrow = 0\n",
    "    maxcol = 0\n",
    "    for i in range(0,len(mat)):\n",
    "        for j in range(0, len(mat[i])):\n",
    "            if mat[i][j] > maxval:\n",
    "                maxval = mat[i][j]\n",
    "                maxrow = i\n",
    "                maxcol = j\n",
    "    return (maxrow, maxcol)\n",
    "\n",
    "# Coppied Teacher's code -> can it be improved ???\n",
    "def recover_align_local(score, trace, seq1, seq2):\n",
    "    \"\"\"recover one of the optimal alignments\"\"\"\n",
    "    res = [\"\", \"\"]\n",
    "    \n",
    "    \"\"\"determine the cell with max score\"\"\"\n",
    "    i, j = max_mat(score)\n",
    "    \n",
    "    \"\"\"terminates when finds a cell with zero\"\"\"\n",
    "    while trace[i][j] > 0:\n",
    "        if trace[i][j]==1:\n",
    "            res[0] = seq1[i-1] + res[0]\n",
    "            res[1] = seq2[j-1] + res[1]\n",
    "            i -= 1\n",
    "            j -= 1\n",
    "\n",
    "        elif trace[i][j] == 3:\n",
    "            res[0] = \"-\" + res[0]\n",
    "            res[1] = seq2[j-1] + res[1]\n",
    "            j -= 1\n",
    "\n",
    "        elif trace[i][j] == 2:\n",
    "            res[0] = seq1[i-1] + res[0]\n",
    "            res[1] = \"-\" + res[1]\n",
    "            i -= 1\n",
    "\n",
    "    return res\n",
    "\n",
    "# sw = smith_waterman('TACT', 'ACTA', read_submat_file('files/blosum62.mat'), -3)"
   ]
  },
  {
   "cell_type": "markdown",
   "metadata": {},
   "source": [
    "# Sequence Similarity - 8/09"
   ]
  },
  {
   "cell_type": "code",
   "execution_count": 22,
   "metadata": {},
   "outputs": [
    {
     "data": {
      "text/plain": [
       "([[0, 0, 0, 0, 0],\n",
       "  [0, 1, 4, 5, 6],\n",
       "  [0, 2, 5, 13, 14],\n",
       "  [0, 5, 6, 14, 18],\n",
       "  [0, 6, 7, 15, 19]],\n",
       " ['ACTG', 'ACT-'])"
      ]
     },
     "execution_count": 22,
     "metadata": {},
     "output_type": "execute_result"
    }
   ],
   "source": [
    "# Finds the most similar sequence to a query sequence\n",
    "# The function should use the local alignment algorithm developed previously\n",
    "# Input:\n",
    "# * Query sequence (query)\n",
    "# * List of sequence\n",
    "# * Substitution Matrix\n",
    "# * Gap penalty (g)\n",
    "# * Return alignment with the best sequence\n",
    "def seq_similarity(query, seqs, sm, g):\n",
    "    sw_seqs = [smith_waterman(query, seq, sm, g) for seq in seqs]\n",
    "    sw_max_seqs = [seq[2] for seq in sw_seqs]\n",
    "    max_idx = sw_max_seqs.index(max(sw_max_seqs))\n",
    "    score, trace, _ = sw_seqs[max_idx]\n",
    "    \n",
    "    return (score, recover_align_local(score, trace, query, seqs[max_idx]))\n",
    "\n",
    "# Test\n",
    "seq_similarity('ACTG', ['ATGC', 'ATTT', 'TACT', 'ATTGT'], read_submat_file('files/blosum62.mat'), 1)"
   ]
  },
  {
   "cell_type": "markdown",
   "metadata": {},
   "source": [
    "## BLAST\n",
    "\n",
    "Programa desenvolvida para comprar não só sequências de nucleótidos, bem como sequências próteicas. Usado na comparação de sequências."
   ]
  },
  {
   "cell_type": "code",
   "execution_count": null,
   "metadata": {},
   "outputs": [],
   "source": [
    " "
   ]
  }
 ],
 "metadata": {
  "kernelspec": {
   "display_name": "Python 3",
   "language": "python",
   "name": "python3"
  },
  "language_info": {
   "codemirror_mode": {
    "name": "ipython",
    "version": 3
   },
   "file_extension": ".py",
   "mimetype": "text/x-python",
   "name": "python",
   "nbconvert_exporter": "python",
   "pygments_lexer": "ipython3",
   "version": "3.7.2"
  }
 },
 "nbformat": 4,
 "nbformat_minor": 2
}
