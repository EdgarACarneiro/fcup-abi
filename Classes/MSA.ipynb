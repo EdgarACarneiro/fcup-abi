{
 "cells": [
  {
   "cell_type": "markdown",
   "metadata": {},
   "source": [
    "# Multiple Sequence Alignment"
   ]
  },
  {
   "cell_type": "markdown",
   "metadata": {},
   "source": [
    "## Class 24/04"
   ]
  },
  {
   "cell_type": "markdown",
   "metadata": {},
   "source": [
    "* The Multiple Sequence Alignment (MSA) - global or local - generalizes the pairwise alignment problmem for N>2 sequences\n",
    "\n",
    "* Clustel Omega - base software for MSA\n",
    "\n",
    "* Protein of unknown fn -> Blast -> MSA -> Phylogenetic Tree (distance between the sequences under analysis)\n",
    "\n",
    "MSA notes:\n",
    "* Consensus sequence: sequence with most common nucleotid per column (ignores the gap)\n",
    "* PWM (Position Wieght Matrix): matrix with the frequency of each nucleotid in each column\n",
    "* Number of combinations between sequences (?? or columns??) : $$\\frac{n * (n-1)}{2}$$"
   ]
  },
  {
   "cell_type": "code",
   "execution_count": 2,
   "metadata": {},
   "outputs": [],
   "source": [
    "# Scan through all the columns of the alignment and count the number of ocurrences of each symbol.\n",
    "# Get the most frequent per column and concatenate to the consensus sequence\n",
    "def consensus():\n",
    "    # Implemented in teacher's code\n",
    "    return None"
   ]
  },
  {
   "cell_type": "code",
   "execution_count": null,
   "metadata": {},
   "outputs": [],
   "source": []
  }
 ],
 "metadata": {
  "kernelspec": {
   "display_name": "Python 3",
   "language": "python",
   "name": "python3"
  },
  "language_info": {
   "codemirror_mode": {
    "name": "ipython",
    "version": 3
   },
   "file_extension": ".py",
   "mimetype": "text/x-python",
   "name": "python",
   "nbconvert_exporter": "python",
   "pygments_lexer": "ipython3",
   "version": "3.7.2"
  }
 },
 "nbformat": 4,
 "nbformat_minor": 2
}
