{
 "cells": [
  {
   "cell_type": "markdown",
   "metadata": {},
   "source": [
    "# Class 11/03/2019"
   ]
  },
  {
   "cell_type": "code",
   "execution_count": 18,
   "metadata": {},
   "outputs": [
    {
     "name": "stdout",
     "output_type": "stream",
     "text": [
      "MAGCTAGCTAGCTAGC_\n"
     ]
    }
   ],
   "source": [
    "import re\n",
    "\n",
    "# Find the largest putative protein from an aa sequence using a RE\n",
    "# Proteins start with a 'M' and end with '_'\n",
    "# Accepts arguments minimum and maximum length\n",
    "def max_protein(aa, minsize=2, maxsize=100):\n",
    "    if (minsize < 2 or maxsize < minsize):\n",
    "        raise Exception\n",
    "        \n",
    "    regex = re.compile('M.{' + str(minsize - 2) + ',' + str(maxsize - 2) + '}?_')\n",
    "    return max(re.findall(regex, aa.upper()), key = lambda el: len(el))\n",
    "\n",
    "# Test\n",
    "print(max_protein('ACGTAGCAMA_NAEDIAEDMAGCTAGCTAGCTAGC_ACTGMYAECAEC_ONAE'))"
   ]
  },
  {
   "cell_type": "code",
   "execution_count": 25,
   "metadata": {},
   "outputs": [
    {
     "name": "stdout",
     "output_type": "stream",
     "text": [
      "C.H.[LIVMFY]C.{2}C[LIVMYA]{3,4}[^XK]\n"
     ]
    }
   ],
   "source": [
    "# Convert a Prosite Pattern to a Regex Pattern\n",
    "def prosite_to_regex(prosite):\n",
    "    converter = {\n",
    "        '-': '',\n",
    "        'x': '.',\n",
    "        '(': '{',\n",
    "        ')': '}',\n",
    "        '{': '[^',\n",
    "        '}': ']'\n",
    "    }\n",
    "    \n",
    "    return \"\".join([converter[el] if el in converter.keys() else el for el in prosite])\n",
    "\n",
    "# Test\n",
    "print(prosite_to_regex(\"C-x-H-x-[LIVMFY]-C-x(2)-C-[LIVMYA](3,4)-{XK}\"))"
   ]
  },
  {
   "cell_type": "code",
   "execution_count": 24,
   "metadata": {},
   "outputs": [
    {
     "name": "stdout",
     "output_type": "stream",
     "text": [
      "['TTTCG']\n"
     ]
    }
   ],
   "source": [
    "# Test a sequence with th given prosite pattern\n",
    "def find_prosite(aa, prosite):\n",
    "    return re.findall(re.compile(prosite_to_regex(prosite)), aa.upper())\n",
    "\n",
    "# Test\n",
    "print(find_prosite(\"ATTTCGGC\", \"x-T(2)-[CG]-x\"))"
   ]
  },
  {
   "cell_type": "code",
   "execution_count": null,
   "metadata": {},
   "outputs": [],
   "source": []
  }
 ],
 "metadata": {
  "kernelspec": {
   "display_name": "Python 3",
   "language": "python",
   "name": "python3"
  },
  "language_info": {
   "codemirror_mode": {
    "name": "ipython",
    "version": 3
   },
   "file_extension": ".py",
   "mimetype": "text/x-python",
   "name": "python",
   "nbconvert_exporter": "python",
   "pygments_lexer": "ipython3",
   "version": "3.7.2"
  }
 },
 "nbformat": 4,
 "nbformat_minor": 2
}
