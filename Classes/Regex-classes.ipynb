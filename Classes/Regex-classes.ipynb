{
 "cells": [
  {
   "cell_type": "markdown",
   "metadata": {},
   "source": [
    "# Class 11/03/2019"
   ]
  },
  {
   "cell_type": "code",
   "execution_count": 18,
   "metadata": {},
   "outputs": [
    {
     "name": "stdout",
     "output_type": "stream",
     "text": [
      "MAGCTAGCTAGCTAGC_\n"
     ]
    }
   ],
   "source": [
    "import re\n",
    "\n",
    "# Find the largest putative protein from an aa sequence using a RE\n",
    "# Proteins start with a 'M' and end with '_'\n",
    "# Accepts arguments minimum and maximum length\n",
    "def max_protein(aa, minsize=2, maxsize=100):\n",
    "    if (minsize < 2 or maxsize < minsize):\n",
    "        raise Exception\n",
    "        \n",
    "    regex = re.compile('M.{' + str(minsize - 2) + ',' + str(maxsize - 2) + '}?_')\n",
    "    return max(re.findall(regex, aa.upper()), key = lambda el: len(el))\n",
    "\n",
    "# Test\n",
    "print(max_protein('ACGTAGCAMA_NAEDIAEDMAGCTAGCTAGCTAGC_ACTGMYAECAEC_ONAE'))"
   ]
  },
  {
   "cell_type": "code",
   "execution_count": 25,
   "metadata": {},
   "outputs": [
    {
     "name": "stdout",
     "output_type": "stream",
     "text": [
      "C.H.[LIVMFY]C.{2}C[LIVMYA]{3,4}[^XK]\n"
     ]
    }
   ],
   "source": [
    "# Convert a Prosite Pattern to a Regex Pattern\n",
    "def prosite_to_regex(prosite):\n",
    "    converter = {\n",
    "        '-': '',\n",
    "        'x': '.',\n",
    "        '(': '{',\n",
    "        ')': '}',\n",
    "        '{': '[^',\n",
    "        '}': ']'\n",
    "    }\n",
    "    \n",
    "    return \"\".join([converter[el] if el in converter.keys() else el for el in prosite])\n",
    "\n",
    "# Test\n",
    "print(prosite_to_regex(\"C-x-H-x-[LIVMFY]-C-x(2)-C-[LIVMYA](3,4)-{XK}\"))"
   ]
  },
  {
   "cell_type": "code",
   "execution_count": 24,
   "metadata": {},
   "outputs": [
    {
     "name": "stdout",
     "output_type": "stream",
     "text": [
      "['TTTCG']\n"
     ]
    }
   ],
   "source": [
    "# Test a sequence with th given prosite pattern\n",
    "def find_prosite(aa, prosite):\n",
    "    return re.findall(re.compile(prosite_to_regex(prosite)), aa.upper())\n",
    "\n",
    "# Test\n",
    "print(find_prosite(\"ATTTCGGC\", \"x-T(2)-[CG]-x\"))"
   ]
  },
  {
   "cell_type": "markdown",
   "metadata": {},
   "source": [
    "# Class 13/3/2019"
   ]
  },
  {
   "cell_type": "code",
   "execution_count": 35,
   "metadata": {},
   "outputs": [
    {
     "data": {
      "text/plain": [
       "(6, '[AC][CGT][AGT][GT][AT]AT|CG..AEJ[ACGT][ACGT].AE[ACGT]U[ACT]E')"
      ]
     },
     "execution_count": 35,
     "metadata": {},
     "output_type": "execute_result"
    }
   ],
   "source": [
    "# Convert a REBASE Pattern to a Regex Pattern\n",
    "def rebase_to_regex(rebase):\n",
    "    converter = {\n",
    "        'R': '[AG]',\n",
    "        'Y': '[CT]',\n",
    "        'S': '[GC]',\n",
    "        'W': '[AT]',\n",
    "        'K': '[GT]',\n",
    "        'M': '[AC]',\n",
    "        'B': '[CGT]',\n",
    "        'D': '[AGT]',\n",
    "        'H': '[ACT]',\n",
    "        'V': '[ACG]',\n",
    "        'N': '[ACGT]',\n",
    "        '-': '.',\n",
    "        '^': ''\n",
    "    }\n",
    "    \n",
    "    return (rebase.find('^'),\\\n",
    "            \"\".join([converter[el] if el in converter.keys() else el for el in rebase]))\n",
    "\n",
    "# Test\n",
    "rebase_to_regex(\"MBDKWA^T|CG..AEJNN.AENUHE\")"
   ]
  },
  {
   "cell_type": "code",
   "execution_count": 36,
   "metadata": {},
   "outputs": [
    {
     "data": {
      "text/plain": [
       "[1, 4, 10, 13]"
      ]
     },
     "execution_count": 36,
     "metadata": {},
     "output_type": "execute_result"
    }
   ],
   "source": [
    "import re\n",
    "\n",
    "# Given a sequence and a restriction enzyme pattern in the REBASE syntax,\n",
    "# i.e. including IUPAC positions, determines the cut positions of\n",
    "# the enzyme in the sequence\n",
    "def cut_positions(enzyme_pattern, seq):\n",
    "    cut_offset, rebase_regex = rebase_to_regex(enzyme_pattern)\n",
    "    \n",
    "    regex = re.compile(rebase_regex)\n",
    "    return [match.start() + cut_offset for match in re.finditer(regex, seq)]\n",
    "\n",
    "# Test\n",
    "cut_positions(\"V^HD\", \"ACTAATGSTGAACCTGA\")"
   ]
  },
  {
   "cell_type": "code",
   "execution_count": 38,
   "metadata": {},
   "outputs": [
    {
     "data": {
      "text/plain": [
       "['ATGAAAG',\n",
       " 'AAGTCTTATGAATGAGCCTCAGCTGAAGAANTCCATCGCGCAGAANTCCTACGCTCAGACTCAGACTCAGCATTATAGTG',\n",
       " 'AATTCTTAATAAATAAAATA']"
      ]
     },
     "execution_count": 38,
     "metadata": {},
     "output_type": "execute_result"
    }
   ],
   "source": [
    "def cut_subsequences(enz, seq):\n",
    "    cut_pos = [0] + cut_positions(enz, seq) + [len(seq) -1]\n",
    "    \n",
    "    return [seq[cut_pos[i]: cut_pos[i+1]] for i in range(0, len(cut_pos) - 1)]\n",
    "\n",
    "# Test\n",
    "cut_subsequences(\"G^AANTC\", \"ATGAAAGAAGTCTTATGAATGAGCCTCAGCTGAAGAANTCCATCGCGCAGAANTCCTACGCTCAGACTCAGACTCAGCATTATAGTGAATTCTTAATAAATAAAATAA\")"
   ]
  },
  {
   "cell_type": "code",
   "execution_count": 24,
   "metadata": {},
   "outputs": [
    {
     "data": {
      "text/plain": [
       "{'TG': 4, 'CA': 2, 'AC': 1}"
      ]
     },
     "execution_count": 24,
     "metadata": {},
     "output_type": "execute_result"
    }
   ],
   "source": [
    "# Given a DNA sequence, allows to detect if there are repeated sequences\n",
    "# of size k (k as argument), ordered by descreasing order of frequency\n",
    "# Returns a dic with subseqs as keys and their frequency as values \n",
    "def find_repeated_subseqs(seq, k, top=3):\n",
    "    regex = re.compile('.{' + str(k) + '}')\n",
    "    res = {}\n",
    "    \n",
    "    for match in re.findall(regex, seq):\n",
    "        if match in res:\n",
    "            res[match] += 1\n",
    "        else:\n",
    "            res[match] = 1\n",
    "    \n",
    "    return {k: v for (k, v) in\\\n",
    "        sorted(res.items(), key = lambda x: x[1], reverse = True)[0:top]}\n",
    "\n",
    "# Test\n",
    "find_repeated_subseqs(\"ACTGTGCACAAATGTG\", 2)"
   ]
  },
  {
   "cell_type": "code",
   "execution_count": null,
   "metadata": {},
   "outputs": [],
   "source": []
  }
 ],
 "metadata": {
  "kernelspec": {
   "display_name": "Python 3",
   "language": "python",
   "name": "python3"
  },
  "language_info": {
   "codemirror_mode": {
    "name": "ipython",
    "version": 3
   },
   "file_extension": ".py",
   "mimetype": "text/x-python",
   "name": "python",
   "nbconvert_exporter": "python",
   "pygments_lexer": "ipython3",
   "version": "3.7.2"
  }
 },
 "nbformat": 4,
 "nbformat_minor": 2
}
